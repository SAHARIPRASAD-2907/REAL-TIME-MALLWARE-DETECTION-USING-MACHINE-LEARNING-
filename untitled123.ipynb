{
 "cells": [
  {
   "cell_type": "markdown",
   "metadata": {},
   "source": [
    "##### MALLWARE DETECTION USING MACHINE LEARNING ALGORITHM\n",
    "##### BY S A HARIPRASAD 18BCE0686\n",
    "##### BY MALLA JYOTSNA SREE MAHIMA 18BCE0912"
   ]
  },
  {
   "cell_type": "markdown",
   "metadata": {},
   "source": [
    "# importing dataset"
   ]
  },
  {
   "cell_type": "code",
   "execution_count": 9,
   "metadata": {},
   "outputs": [],
   "source": [
    "import numpy as np\n",
    "import pandas as pd"
   ]
  },
  {
   "cell_type": "markdown",
   "metadata": {},
   "source": [
    "# Importing the dataset"
   ]
  },
  {
   "cell_type": "code",
   "execution_count": 5,
   "metadata": {},
   "outputs": [],
   "source": [
    "# Importing the dataset\n",
    "dataset = pd.read_csv('mallware.csv', sep = '|')\n",
    "X = dataset.drop(['Name', 'md5', 'legitimate'], axis = 1).values\n",
    "y = dataset['legitimate'].values"
   ]
  },
  {
   "cell_type": "markdown",
   "metadata": {},
   "source": [
    "# tree based feature selection"
   ]
  },
  {
   "cell_type": "code",
   "execution_count": 6,
   "metadata": {},
   "outputs": [
    {
     "name": "stdout",
     "output_type": "stream",
     "text": [
      "1. feature Machine (0.294582)\n",
      "2. feature MajorSubsystemVersion (0.127250)\n",
      "3. feature MajorOperatingSystemVersion (0.117652)\n",
      "4. feature DllCharacteristics (0.058494)\n",
      "5. feature SizeOfOptionalHeader (0.054257)\n",
      "6. feature Characteristics (0.045799)\n",
      "7. feature VersionInformationSize (0.036299)\n",
      "8. feature ResourcesMaxEntropy (0.023831)\n",
      "9. feature ImageBase (0.022880)\n"
     ]
    }
   ],
   "source": [
    "from sklearn.feature_selection import SelectFromModel\n",
    "import sklearn.ensemble as ske\n",
    "fsel = ske.ExtraTreesClassifier().fit(X, y)\n",
    "model = SelectFromModel(fsel, prefit=True)\n",
    "X_new = model.transform(X)\n",
    "nb_features = X_new.shape[1]\n",
    "indices = np.argsort(fsel.feature_importances_)[::-1][:nb_features]\n",
    "for f in range(nb_features):\n",
    "    print(\"%d. feature %s (%f)\" % (f + 1, dataset.columns[2+indices[f]], fsel.feature_importances_[indices[f]]))\n",
    "features = []\n",
    "for f in sorted(np.argsort(fsel.feature_importances_)[::-1][:nb_features]):\n",
    "    features.append(dataset.columns[2+f])"
   ]
  },
  {
   "cell_type": "code",
   "execution_count": null,
   "metadata": {},
   "outputs": [],
   "source": []
  }
 ],
 "metadata": {
  "kernelspec": {
   "display_name": "Python 3",
   "language": "python",
   "name": "python3"
  },
  "language_info": {
   "codemirror_mode": {
    "name": "ipython",
    "version": 3
   },
   "file_extension": ".py",
   "mimetype": "text/x-python",
   "name": "python",
   "nbconvert_exporter": "python",
   "pygments_lexer": "ipython3",
   "version": "3.6.10"
  }
 },
 "nbformat": 4,
 "nbformat_minor": 4
}
